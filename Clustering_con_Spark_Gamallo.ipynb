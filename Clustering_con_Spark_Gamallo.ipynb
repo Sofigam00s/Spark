{
  "cells": [
    {
      "cell_type": "markdown",
      "metadata": {
        "id": "view-in-github",
        "colab_type": "text"
      },
      "source": [
        "<a href=\"https://colab.research.google.com/github/Sofigam00s/Spark/blob/main/Clustering_con_Spark_Gamallo.ipynb\" target=\"_parent\"><img src=\"https://colab.research.google.com/assets/colab-badge.svg\" alt=\"Open In Colab\"/></a>"
      ]
    },
    {
      "cell_type": "markdown",
      "id": "55e02829-3edf-431a-b621-78aac289a079",
      "metadata": {
        "id": "55e02829-3edf-431a-b621-78aac289a079"
      },
      "source": [
        "# Parcial 2 Procesamiento de datos\n",
        "## Alumna: Gamallo Sofia Antonia\n",
        "## Dni: 42432866"
      ]
    },
    {
      "cell_type": "markdown",
      "id": "5Wo5dGYBtCvM",
      "metadata": {
        "id": "5Wo5dGYBtCvM"
      },
      "source": [
        "## Aplicación de clustering con Spark\n",
        "\n",
        "En este parcial voy a desarrollar prácticas de Spark para aplicarlas a un dataset elegido, con el objetivo de explicar lo ya visto en clases e implemetar un modelo de clustering con MLlib como investigación adicional.\n",
        "\n",
        "Elegí un dataset sobre un comercio minorista online (https://archive.ics.uci.edu/dataset/502/online+retail+ii)\n",
        "\n",
        "El objetivo es realizar un preprocesamiento de datos y dejar el dataset listo para aplicar un modelo de clustering con el fin de hacer una segmentación de clientes."
      ]
    },
    {
      "cell_type": "markdown",
      "id": "FPGqAF1dxCBA",
      "metadata": {
        "id": "FPGqAF1dxCBA"
      },
      "source": [
        "## Primera parte: carga del dataset"
      ]
    },
    {
      "cell_type": "code",
      "execution_count": null,
      "id": "twAaxajaDTfb",
      "metadata": {
        "id": "twAaxajaDTfb"
      },
      "outputs": [],
      "source": [
        "# Spark\n",
        "from pyspark.sql import SparkSession\n",
        "from pyspark.sql.functions import *\n",
        "from pyspark.sql.types import *\n",
        "from pyspark.ml.feature import StringIndexer, VectorAssembler, MinMaxScaler, PCA\n",
        "from pyspark.ml.clustering import KMeans\n",
        "from pyspark.ml.evaluation import ClusteringEvaluator\n",
        "\n",
        "# Análisis y visulización\n",
        "import pandas as pd\n",
        "import matplotlib.pyplot as plt"
      ]
    },
    {
      "cell_type": "code",
      "execution_count": null,
      "id": "P2EwMqFGxQFR",
      "metadata": {
        "id": "P2EwMqFGxQFR"
      },
      "outputs": [],
      "source": [
        "#Abrir la sesion de Spark\n",
        "spark = SparkSession.builder.appName('Online Retail').getOrCreate()\n"
      ]
    },
    {
      "cell_type": "code",
      "execution_count": null,
      "id": "agjaCqzcxele",
      "metadata": {
        "id": "agjaCqzcxele"
      },
      "outputs": [],
      "source": [
        "#Cargar el dataset\n",
        "df = spark.read.csv('OnlineRetail2.csv', header = True, inferSchema = True)"
      ]
    },
    {
      "cell_type": "code",
      "execution_count": null,
      "id": "Xl8V65xCxqOC",
      "metadata": {
        "colab": {
          "base_uri": "https://localhost:8080/"
        },
        "id": "Xl8V65xCxqOC",
        "outputId": "0e159a40-6b42-4b7c-bdcd-c4cf4478e537"
      },
      "outputs": [
        {
          "name": "stdout",
          "output_type": "stream",
          "text": [
            "root\n",
            " |-- Invoice: string (nullable = true)\n",
            " |-- StockCode: string (nullable = true)\n",
            " |-- Description: string (nullable = true)\n",
            " |-- Quantity: integer (nullable = true)\n",
            " |-- InvoiceDate: timestamp (nullable = true)\n",
            " |-- Price: double (nullable = true)\n",
            " |-- Customer ID: double (nullable = true)\n",
            " |-- Country: string (nullable = true)\n",
            "\n"
          ]
        }
      ],
      "source": [
        "#Mostrar la estructura inicial para verificar que se haya cargado bien el dataset\n",
        "df.printSchema()"
      ]
    },
    {
      "cell_type": "markdown",
      "id": "BH0rK2S2Hn9k",
      "metadata": {
        "id": "BH0rK2S2Hn9k"
      },
      "source": [
        "### Descripción del dataset y las variables:\n",
        "\n",
        "El dataset contiene transacciones comerciales en un determinado periodo de tiempo de un comercio online.\n",
        "\n",
        "* Invoice: Número de factura de la compra.\n",
        "* StockCode: Código de identificación del producto.\n",
        "* Description: Nombre o descripción del producto.\n",
        "* Quantity: Cantidad de unidades compradas en una transacción.\n",
        "* InvoiceDate: Fecha y hora de la compra.\n",
        "* Price: Precio unitario del producto comprado.\n",
        "* Customer ID: Identificación única del cliente.\n",
        "* Country: País del cliente que realizó la compra.\n",
        "### Objetivo del clustering:\n",
        "\n",
        "El objetivo para este dataset es aplicar clustering con el fin de agrupar diferentes tipos de clientes (segmentación de clientes). Esta información se podría utilizar en el comercio para generar un servicio más personalizado."
      ]
    },
    {
      "cell_type": "markdown",
      "id": "1EEv3F-U1qm3",
      "metadata": {
        "id": "1EEv3F-U1qm3"
      },
      "source": [
        "## Segunda parte: análisis exploratorio y prepocesamiento de los datos\n",
        "\n",
        "En esta parte voy a analizar el dataset para ver que tipo de variables tiene, que procesamiento debo hacer para poder aplicar el clustering adecuadamente, ya sea eliminando variables, imputando valores nulos, tranformando variables categoricas a numericas, etc."
      ]
    },
    {
      "cell_type": "code",
      "execution_count": null,
      "id": "ynIyDoAI1qAl",
      "metadata": {
        "colab": {
          "base_uri": "https://localhost:8080/"
        },
        "id": "ynIyDoAI1qAl",
        "outputId": "c21221d4-ab02-4fa8-e639-cbb944dad68c"
      },
      "outputs": [
        {
          "name": "stdout",
          "output_type": "stream",
          "text": [
            "+-------+---------+--------------------+--------+-------------------+-----+-----------+--------------+\n",
            "|Invoice|StockCode|         Description|Quantity|        InvoiceDate|Price|Customer ID|       Country|\n",
            "+-------+---------+--------------------+--------+-------------------+-----+-----------+--------------+\n",
            "| 489434|    85048|15CM CHRISTMAS GL...|      12|2009-12-01 07:45:00| 6.95|    13085.0|United Kingdom|\n",
            "| 489434|   79323P|  PINK CHERRY LIGHTS|      12|2009-12-01 07:45:00| 6.75|    13085.0|United Kingdom|\n",
            "| 489434|   79323W| WHITE CHERRY LIGHTS|      12|2009-12-01 07:45:00| 6.75|    13085.0|United Kingdom|\n",
            "| 489434|    22041|\"RECORD FRAME 7\"\"...|      48|2009-12-01 07:45:00|  2.1|    13085.0|United Kingdom|\n",
            "| 489434|    21232|STRAWBERRY CERAMI...|      24|2009-12-01 07:45:00| 1.25|    13085.0|United Kingdom|\n",
            "| 489434|    22064|PINK DOUGHNUT TRI...|      24|2009-12-01 07:45:00| 1.65|    13085.0|United Kingdom|\n",
            "| 489434|    21871| SAVE THE PLANET MUG|      24|2009-12-01 07:45:00| 1.25|    13085.0|United Kingdom|\n",
            "| 489434|    21523|FANCY FONT HOME S...|      10|2009-12-01 07:45:00| 5.95|    13085.0|United Kingdom|\n",
            "| 489435|    22350|           CAT BOWL |      12|2009-12-01 07:46:00| 2.55|    13085.0|United Kingdom|\n",
            "| 489435|    22349|DOG BOWL , CHASIN...|      12|2009-12-01 07:46:00| 3.75|    13085.0|United Kingdom|\n",
            "| 489435|    22195|HEART MEASURING S...|      24|2009-12-01 07:46:00| 1.65|    13085.0|United Kingdom|\n",
            "| 489435|    22353|LUNCHBOX WITH CUT...|      12|2009-12-01 07:46:00| 2.55|    13085.0|United Kingdom|\n",
            "| 489436|   48173C|DOOR MAT BLACK FL...|      10|2009-12-01 09:06:00| 5.95|    13078.0|United Kingdom|\n",
            "| 489436|    21755|LOVE BUILDING BLO...|      18|2009-12-01 09:06:00| 5.45|    13078.0|United Kingdom|\n",
            "| 489436|    21754|HOME BUILDING BLO...|       3|2009-12-01 09:06:00| 5.95|    13078.0|United Kingdom|\n",
            "| 489436|    84879|ASSORTED COLOUR B...|      16|2009-12-01 09:06:00| 1.69|    13078.0|United Kingdom|\n",
            "| 489436|    22119| PEACE WOODEN BLO...|       3|2009-12-01 09:06:00| 6.95|    13078.0|United Kingdom|\n",
            "| 489436|    22142|CHRISTMAS CRAFT W...|      12|2009-12-01 09:06:00| 1.45|    13078.0|United Kingdom|\n",
            "| 489436|    22296|HEART IVORY TRELL...|      12|2009-12-01 09:06:00| 1.65|    13078.0|United Kingdom|\n",
            "| 489436|    22295|HEART FILIGREE DO...|      12|2009-12-01 09:06:00| 1.65|    13078.0|United Kingdom|\n",
            "+-------+---------+--------------------+--------+-------------------+-----+-----------+--------------+\n",
            "only showing top 20 rows\n",
            "\n"
          ]
        }
      ],
      "source": [
        "df.show()"
      ]
    },
    {
      "cell_type": "code",
      "execution_count": null,
      "id": "GUAokwN9125d",
      "metadata": {
        "colab": {
          "base_uri": "https://localhost:8080/"
        },
        "id": "GUAokwN9125d",
        "outputId": "579b26f3-1e2e-42e7-da8d-2c94dc77ac7b"
      },
      "outputs": [
        {
          "name": "stdout",
          "output_type": "stream",
          "text": [
            "El dataset tiene 525461 filas y 8 columnas\n"
          ]
        }
      ],
      "source": [
        "num_rows = df.count()\n",
        "num_colum = len(df.columns)\n",
        "print(f'El dataset tiene {num_rows} filas y {num_colum} columnas')\n"
      ]
    },
    {
      "cell_type": "code",
      "execution_count": null,
      "id": "4ZAzrCNX6rRt",
      "metadata": {
        "colab": {
          "base_uri": "https://localhost:8080/"
        },
        "id": "4ZAzrCNX6rRt",
        "outputId": "700bc9c8-b608-433f-f0b9-f504f9732948"
      },
      "outputs": [
        {
          "name": "stdout",
          "output_type": "stream",
          "text": [
            "ipos de datos por columna:\n",
            "   Invoice: string\n",
            "   StockCode: string\n",
            "   Description: string\n",
            "   Quantity: int\n",
            "   InvoiceDate: timestamp\n",
            "   Price: double\n",
            "   Customer ID: double\n",
            "   Country: string\n"
          ]
        }
      ],
      "source": [
        "# Análisis de tipos de datos\n",
        "print(\"ipos de datos por columna:\")\n",
        "for col_name, col_type in df.dtypes:\n",
        "    print(f\"   {col_name}: {col_type}\")"
      ]
    },
    {
      "cell_type": "code",
      "execution_count": null,
      "id": "4743f927-abdb-43d5-846a-a3c789103a2b",
      "metadata": {
        "id": "4743f927-abdb-43d5-846a-a3c789103a2b",
        "outputId": "1db034f0-308b-497f-f6cf-dcc6b7d417a7"
      },
      "outputs": [
        {
          "name": "stdout",
          "output_type": "stream",
          "text": [
            "+-------+-----------------+-----------------+--------------------+------------------+-----------------+------------------+-----------+\n",
            "|summary|          Invoice|        StockCode|         Description|          Quantity|            Price|       Customer ID|    Country|\n",
            "+-------+-----------------+-----------------+--------------------+------------------+-----------------+------------------+-----------+\n",
            "|  count|           525461|           525461|              522533|            525461|           525461|            417534|     525461|\n",
            "|   mean|514496.9241788484|30518.37992495103|  22226.666666666668|10.337667305470815| 4.68883447867763|15360.645477973052|       NULL|\n",
            "| stddev|14439.20949446552|20693.16815285468|   646.8974674037095|107.42411026879782|146.1269139529264|1680.8113157457146|       NULL|\n",
            "|    min|           489434|            10002|  DOORMAT UNION J...|             -9600|        -53594.36|           12346.0|  Australia|\n",
            "|    max|          C538164|                m|          wrong invc|             19152|         25111.09|           18287.0|West Indies|\n",
            "+-------+-----------------+-----------------+--------------------+------------------+-----------------+------------------+-----------+\n",
            "\n"
          ]
        }
      ],
      "source": [
        "df.describe().show()"
      ]
    },
    {
      "cell_type": "markdown",
      "id": "TEB9DrBiK0YM",
      "metadata": {
        "id": "TEB9DrBiK0YM"
      },
      "source": [
        "### Eliminar variables:\n",
        "\n",
        "Como el objetivo es segmentar clientes, voy a eliminar las variables que sean irrelevantes o innecesarias para el modelo de clustering, en este caso las variables son las siguientes:\n",
        "\n",
        "* Invoice: la elimino porque el número de factura no determina un tipo de cliente.\n",
        "* Description: la elimino porque es una descripcion del producto que se compro, sin embargo esta información la puedo obtener con el stockcode, que significa lo mismo pero de manera numérica.\n",
        "* InvoiceDate: si quisiera un análisis del comercio en el tiempo, la utilizaría, pero como estoy tratando de identificar diferentes tipos de clientes, esta variable no me aporta una información necesaria.\n"
      ]
    },
    {
      "cell_type": "code",
      "execution_count": null,
      "id": "h8rT5RlbL9yV",
      "metadata": {
        "id": "h8rT5RlbL9yV"
      },
      "outputs": [],
      "source": [
        "# Eliminar variables\n",
        "df = df.drop('Invoice', 'Description', 'InvoiceDate')"
      ]
    },
    {
      "cell_type": "code",
      "execution_count": null,
      "id": "XOA87CcWFu27",
      "metadata": {
        "colab": {
          "base_uri": "https://localhost:8080/"
        },
        "id": "XOA87CcWFu27",
        "outputId": "b4612166-1651-4cef-9917-878c5693401f"
      },
      "outputs": [
        {
          "name": "stdout",
          "output_type": "stream",
          "text": [
            "+---------+--------+-----+-----------+-------+\n",
            "|StockCode|Quantity|Price|Customer ID|Country|\n",
            "+---------+--------+-----+-----------+-------+\n",
            "|        0|       0|    0|     107927|      0|\n",
            "+---------+--------+-----+-----------+-------+\n",
            "\n"
          ]
        }
      ],
      "source": [
        "# Contar valores nulos en cada columna\n",
        "df.select([sum(col(c).isNull().cast(\"int\")).alias(c) for c in df.columns]).show()\n"
      ]
    },
    {
      "cell_type": "markdown",
      "id": "tlga-L6zKsVz",
      "metadata": {
        "id": "tlga-L6zKsVz"
      },
      "source": [
        "\n",
        "\n",
        "> No hay valores nulos a excepción del CustomerID, y justo es una variable fundamental para la segmentación de clientes. Como tengo que aplicar clustering, sería un error(que cometí y arreglé) imputar los datos con un valor que se defina como 'Uknown', por ejemplo, porque generaría un grupo específico de cliente que además lo identificaría como un 'cliente gigante'. Por lo tanto la mejor opción es eliminar las final donde el CustomerID sea nulo.\n",
        "\n"
      ]
    },
    {
      "cell_type": "code",
      "execution_count": null,
      "id": "BTS3-ShiOTGk",
      "metadata": {
        "id": "BTS3-ShiOTGk"
      },
      "outputs": [],
      "source": [
        "df = df.na.drop(subset=[\"Customer ID\"])\n"
      ]
    },
    {
      "cell_type": "code",
      "execution_count": null,
      "id": "k8Y-I2c9NJOD",
      "metadata": {
        "colab": {
          "base_uri": "https://localhost:8080/"
        },
        "id": "k8Y-I2c9NJOD",
        "outputId": "a79bae1d-9893-4076-ff12-3b76a4d8c4c3"
      },
      "outputs": [
        {
          "name": "stdout",
          "output_type": "stream",
          "text": [
            "+---------+--------+-----+-----------+-------+\n",
            "|StockCode|Quantity|Price|Customer ID|Country|\n",
            "+---------+--------+-----+-----------+-------+\n",
            "|        0|       0|    0|          0|      0|\n",
            "+---------+--------+-----+-----------+-------+\n",
            "\n"
          ]
        }
      ],
      "source": [
        "df.select([sum(col(c).isNull().cast(\"int\")).alias(c) for c in df.columns]).show()"
      ]
    },
    {
      "cell_type": "markdown",
      "id": "yvzyNpuxRFSn",
      "metadata": {
        "id": "yvzyNpuxRFSn"
      },
      "source": [
        "\n",
        "\n",
        "### Eliminación de outliers\n",
        "\n",
        "Voy a eliminar los outliers de las variables 'Quantity' y 'Price' que son las que más pueden afectar al modelo de Kmeans"
      ]
    },
    {
      "cell_type": "code",
      "execution_count": null,
      "id": "8_HbslCmPLA7",
      "metadata": {
        "id": "8_HbslCmPLA7"
      },
      "outputs": [],
      "source": [
        "# Calcular percentiles (Q1 y Q3)\n",
        "quantiles = df.approxQuantile([\"Quantity\", \"Price\"], [0.25, 0.75], 0.01)\n",
        "Q1_Qt, Q3_Qt = quantiles[0]\n",
        "Q1_Pr, Q3_Pr = quantiles[1]\n",
        "IQR_Qt = Q3_Qt - Q1_Qt\n",
        "IQR_Pr = Q3_Pr - Q1_Pr\n",
        "\n",
        "# Filtrar datos dentro de 1.5 * IQR\n",
        "df_clean = df.filter(\n",
        "    (col(\"Quantity\") >= Q1_Qt - 1.5 * IQR_Qt) & (col(\"Quantity\") <= Q3_Qt + 1.5 * IQR_Qt) &\n",
        "    (col(\"Price\") >= Q1_Pr - 1.5 * IQR_Pr) & (col(\"Price\") <= Q3_Pr + 1.5 * IQR_Pr)\n",
        ")"
      ]
    },
    {
      "cell_type": "markdown",
      "id": "a4Mm04F3zjCZ",
      "metadata": {
        "id": "a4Mm04F3zjCZ"
      },
      "source": [
        "### Transformar variables\n",
        "\n",
        "En esta parte voy a normalizar los datos, para eso primero tengo que codifcar las variables 'stockcode' y 'country' para conservar su característica categórica en tipo numérico.\n",
        "\n",
        "Luego con VectorAssambler vectorizo todas las variables y finalmente con MinMax las normalizo."
      ]
    },
    {
      "cell_type": "code",
      "execution_count": null,
      "id": "btjhbeAwRRpt",
      "metadata": {
        "id": "btjhbeAwRRpt"
      },
      "outputs": [],
      "source": [
        "# Codificar StockCode y Country\n",
        "indexer_stock = StringIndexer(inputCol=\"StockCode\", outputCol=\"StockCode_Index\")\n",
        "indexer_country = StringIndexer(inputCol=\"Country\", outputCol=\"Country_Index\")\n",
        "\n",
        "df = indexer_stock.fit(df).transform(df)\n",
        "df = indexer_country.fit(df).transform(df)\n"
      ]
    },
    {
      "cell_type": "code",
      "execution_count": null,
      "id": "KHnneM8iaAmq",
      "metadata": {
        "id": "KHnneM8iaAmq"
      },
      "outputs": [],
      "source": [
        "# Vectorizar\n",
        "features = [\"StockCode_Index\", \"Quantity\", \"Price\", \"Customer ID\", \"Country_Index\"]\n",
        "assembler = VectorAssembler(inputCols=features, outputCol=\"features\")\n",
        "df_vector = assembler.transform(df)\n"
      ]
    },
    {
      "cell_type": "code",
      "execution_count": null,
      "id": "hfbrl852aCmy",
      "metadata": {
        "id": "hfbrl852aCmy"
      },
      "outputs": [],
      "source": [
        "# Normalizar\n",
        "scaler = MinMaxScaler(inputCol=\"features\", outputCol=\"scaled_features\")\n",
        "scaler_model = scaler.fit(df_vector)\n",
        "df_scaled = scaler_model.transform(df_vector)"
      ]
    },
    {
      "cell_type": "markdown",
      "id": "4908e8ea-9f60-4d87-97a7-7474c8596415",
      "metadata": {
        "id": "4908e8ea-9f60-4d87-97a7-7474c8596415"
      },
      "source": [
        "## Tercera parte: aplicación del modelo"
      ]
    },
    {
      "cell_type": "markdown",
      "id": "prbs8ncy1EJX",
      "metadata": {
        "id": "prbs8ncy1EJX"
      },
      "source": [
        "### Utilizar PCA para reducir la dimensionalidad\n",
        "\n",
        "Voy a aplicar PCA para reducir la dimensionalidad de los datos y mejorar la efciencia de los clústers, así se puede trabajar con menos información y facilitar la visualiación."
      ]
    },
    {
      "cell_type": "code",
      "execution_count": null,
      "id": "mH0PrtXpaEwT",
      "metadata": {
        "colab": {
          "base_uri": "https://localhost:8080/"
        },
        "id": "mH0PrtXpaEwT",
        "outputId": "1110c1ff-a229-47b8-8e3e-b3f5e01d9306"
      },
      "outputs": [
        {
          "name": "stdout",
          "output_type": "stream",
          "text": [
            "+-------------------------------------------+\n",
            "|pca_features                               |\n",
            "+-------------------------------------------+\n",
            "|[-0.12734517901637743,-0.1013705498465314] |\n",
            "|[-0.12670187116450632,-0.08103392859481824]|\n",
            "|[-0.12556431410111832,-0.0450728289606398] |\n",
            "|[-0.13101655932704462,-0.21743841374052802]|\n",
            "|[-0.12405013081166105,0.002792517928979674]|\n",
            "+-------------------------------------------+\n",
            "only showing top 5 rows\n",
            "\n",
            "Varianza explicada por cada componente: [0.68818378 0.27293822]\n"
          ]
        }
      ],
      "source": [
        "# Aplicar PCA\n",
        "pca = PCA(k=2, inputCol=\"scaled_features\", outputCol=\"pca_features\")\n",
        "pca_model = pca.fit(df_scaled)\n",
        "df_pca = pca_model.transform(df_scaled)\n",
        "\n",
        "# Mostrar las nuevas variables reducidas\n",
        "df_pca.select(\"pca_features\").show(5, truncate=False)\n",
        "\n",
        "# Porcentaje de varianza explicada por cada componente\n",
        "explained_variance = pca_model.explainedVariance.toArray()\n",
        "print(\"Varianza explicada por cada componente:\", explained_variance)"
      ]
    },
    {
      "cell_type": "markdown",
      "id": "vvxkhG_paeLp",
      "metadata": {
        "id": "vvxkhG_paeLp"
      },
      "source": [
        "El PCA pudo explicar el 95% de la varianza, es decir, retiene ese porcetanje de información en solo dos dimensiones. Es un muy buen porcentaje para aplicar Kmeans"
      ]
    },
    {
      "cell_type": "markdown",
      "id": "VTHxvDVN2ejy",
      "metadata": {
        "id": "VTHxvDVN2ejy"
      },
      "source": [
        "### Aplicar Kmean\n",
        "\n",
        "Ahora con los datos normalizados y reducidos, voy a hacer primero una evaluación de clustering utilizando la métrica de silhouette score para encontrar el valor óptimo de k."
      ]
    },
    {
      "cell_type": "code",
      "execution_count": null,
      "id": "JEbBKOeQhzsi",
      "metadata": {
        "colab": {
          "base_uri": "https://localhost:8080/"
        },
        "id": "JEbBKOeQhzsi",
        "outputId": "15a21631-65b9-465f-953c-8e0adeec289e"
      },
      "outputs": [
        {
          "name": "stdout",
          "output_type": "stream",
          "text": [
            "Silhouette score para k=2: 0.6510\n",
            "Silhouette score para k=3: 0.6582\n",
            "Silhouette score para k=4: 0.5760\n",
            "Silhouette score para k=5: 0.4999\n",
            "Silhouette score para k=6: 0.5778\n",
            "Silhouette score para k=7: 0.5675\n"
          ]
        }
      ],
      "source": [
        "evaluator = ClusteringEvaluator(featuresCol='pca_features', metricName='silhouette', distanceMeasure='squaredEuclidean')\n",
        "\n",
        "for k in range(2, 8):\n",
        "    kmeans = KMeans(k=k, seed=42, featuresCol=\"pca_features\")\n",
        "    model = kmeans.fit(df_pca)\n",
        "    predictions = model.transform(df_pca)\n",
        "    score = evaluator.evaluate(predictions)\n",
        "    print(f\"Silhouette score para k={k}: {score:.4f}\")\n"
      ]
    },
    {
      "cell_type": "markdown",
      "id": "EA_6jZ9_2vIB",
      "metadata": {
        "id": "EA_6jZ9_2vIB"
      },
      "source": [
        "El k más óptimo son 3 clústeres, con un score de 65%. No es un porcentaje perfecto pero sí decente, así que voy implementar el modelo con esa cantidad."
      ]
    },
    {
      "cell_type": "code",
      "execution_count": null,
      "id": "HLjR7aUVaxyy",
      "metadata": {
        "id": "HLjR7aUVaxyy"
      },
      "outputs": [],
      "source": [
        "# Modelo con k=3\n",
        "kmeans_3 = KMeans(k=3, featuresCol=\"pca_features\", seed=42)\n",
        "model_3 = kmeans_3.fit(df_pca)\n",
        "df_k3 = model_3.transform(df_pca)"
      ]
    },
    {
      "cell_type": "code",
      "execution_count": null,
      "id": "YGwGe_hWlvKM",
      "metadata": {
        "colab": {
          "base_uri": "https://localhost:8080/"
        },
        "id": "YGwGe_hWlvKM",
        "outputId": "206f4599-05f7-4f25-c061-cf205e0d3f71"
      },
      "outputs": [
        {
          "name": "stdout",
          "output_type": "stream",
          "text": [
            "🔍 Estadísticas por cluster:\n",
            "+----------+----------------+------------------+------------------+------------------+--------------------+--------------+------------------+------------------+\n",
            "|prediction|NumTransacciones|CantidadPromedio  |PrecioPromedio    |ProductoPromedio  |PaisPromedio        |ClientesUnicos|RevenueTotal      |RevenuePromedio   |\n",
            "+----------+----------------+------------------+------------------+------------------+--------------------+--------------+------------------+------------------+\n",
            "|0         |174331          |11.57472279743706 |3.673203274231203 |449.4372716269625 |0.062054367840487346|2137          |3339270.8400000017|19.154773620297032|\n",
            "|1         |54735           |15.990189092902165|3.71629787156302  |2099.2040193660364|0.3056362473737097  |3444          |902325.6640000017 |16.48535058006763 |\n",
            "|2         |188468          |12.915630239616274|4.1355481036568555|462.23038924379733|0.9851645902752721  |2201          |4106612.070000003 |21.789439427382913|\n",
            "+----------+----------------+------------------+------------------+------------------+--------------------+--------------+------------------+------------------+\n",
            "\n"
          ]
        }
      ],
      "source": [
        "# Análisis estadístico por cluster\n",
        "cluster_stats = df_k3.groupBy(\"prediction\").agg(\n",
        "    count(\"*\").alias(\"NumTransacciones\"),\n",
        "    avg(\"Quantity\").alias(\"CantidadPromedio\"),\n",
        "    avg(\"Price\").alias(\"PrecioPromedio\"),\n",
        "    avg(\"StockCode_Index\").alias(\"ProductoPromedio\"),\n",
        "    avg(\"Country_Index\").alias(\"PaisPromedio\"),\n",
        "    countDistinct(\"Customer ID\").alias(\"ClientesUnicos\"),\n",
        "    sum(col(\"Quantity\") * col(\"Price\")).alias(\"GananciaTotal\")\n",
        ").orderBy(\"prediction\")\n",
        "\n",
        "cluster_stats.show(truncate=False)"
      ]
    },
    {
      "cell_type": "code",
      "execution_count": null,
      "id": "amplZiK_mF4E",
      "metadata": {
        "colab": {
          "base_uri": "https://localhost:8080/",
          "height": 601
        },
        "id": "amplZiK_mF4E",
        "outputId": "69348b3d-b6ba-4dad-c12a-c4af2044499c"
      },
      "outputs": [
        {
          "name": "stderr",
          "output_type": "stream",
          "text": [
            "/usr/local/lib/python3.11/dist-packages/IPython/core/pylabtools.py:151: UserWarning: Creating legend with loc=\"best\" can be slow with large amounts of data.\n",
            "  fig.canvas.print_figure(bytes_io, **kw)\n"
          ]
        },
        {
          "data": {
            "image/png": "[encoded data removed]",
            "text/plain": [
              "<Figure size 800x600 with 1 Axes>"
            ]
          },
          "metadata": {},
          "output_type": "display_data"
        }
      ],
      "source": [
        "# Visualización de los clsuters\n",
        "df_plot = df_k3.select(\"pca_features\", \"prediction\").toPandas()\n",
        "df_plot[\"PCA1\"] = df_plot[\"pca_features\"].apply(lambda x: x[0])\n",
        "df_plot[\"PCA2\"] = df_plot[\"pca_features\"].apply(lambda x: x[1])\n",
        "\n",
        "# Crear mapa de colores personalizados\n",
        "colors = {0: \"orange\", 1: \"skyblue\", 2: 'pink'}\n",
        "\n",
        "plt.figure(figsize=(8,6))\n",
        "for cluster_id in df_plot[\"prediction\"].unique():\n",
        "    subset = df_plot[df_plot[\"prediction\"] == cluster_id]\n",
        "    plt.scatter(subset[\"PCA1\"], subset[\"PCA2\"],\n",
        "                label=f\"Cluster {cluster_id}\",\n",
        "                c=colors[cluster_id], s=30, alpha=0.6)\n",
        "\n",
        "plt.xlabel(\"PCA 1\")\n",
        "plt.ylabel(\"PCA 2\")\n",
        "plt.title(\"Clusters según K-Means (k=3)\")\n",
        "plt.legend()\n",
        "plt.grid(True)\n",
        "plt.show()\n"
      ]
    },
    {
      "cell_type": "markdown",
      "id": "ZFHlVbOkE94z",
      "metadata": {
        "id": "ZFHlVbOkE94z"
      },
      "source": [
        "### Análisis de clusters\n",
        "\n",
        "* Cluster 0: agrupo a clientes que compran frecuentemente y eligen productos regulares.\n",
        "* Cluster 1: agrupo a una cantidad mayor de clientes pero que son ocasionales, llevan más cantidad de productos y son un poco más caros que el grupo 0.\n",
        "* Cluster 2: agrupo a los clientes se podría decir que más 'valiosos', porque tiene la mayor cantidad de transacciones, compran los porductos más caros y en buena cantidad, además generan el mayor porcentaje de ganancias.\n",
        "\n",
        "### Grafico\n",
        "\n",
        "El gráfico muestra una buena separación de los clústeres, sin sobreposición, lo que demuestra una composición muy compacta de cada tipo de cliente."
      ]
    },
    {
      "cell_type": "markdown",
      "id": "SkMzS2URO_GA",
      "metadata": {
        "id": "SkMzS2URO_GA"
      },
      "source": [
        "# Conclusión final\n",
        "\n",
        "En este parcial desarrolle la implementación de Spark con MLlib para analizar un dataset sobre comercio online, con el fin de aplicar un modelo de clustering y detectar una segmentación de clientes.\n",
        "\n",
        "Utilice funciones vistas en clase como 'filter', 'lambda', 'Sparksesion' y 'VectorAssembler'.\n",
        "\n",
        "Agregue funciones que investigue como el modelo de clustering y PCA específico para Spark, donde obtuve un muy buen porcetanje en el PCA (95%) pero bajo un poco en el análisis de Silhuette Score(65% el mejor). Sin embargo, el resultado fue una sólida segmentación de tres grupos diferentes de clientes, que podrían servir al comercio para ofrecerles servicios más personalizados y alineados a las necesidades de cada uno."
      ]
    },
    {
      "cell_type": "code",
      "execution_count": null,
      "id": "6200f623-a852-44c7-9cc6-02df41168b10",
      "metadata": {
        "id": "6200f623-a852-44c7-9cc6-02df41168b10"
      },
      "outputs": [],
      "source": []
    }
  ],
  "metadata": {
    "colab": {
      "provenance": [],
      "include_colab_link": true
    },
    "kernelspec": {
      "display_name": "Python 3 (ipykernel)",
      "language": "python",
      "name": "python3"
    },
    "language_info": {
      "codemirror_mode": {
        "name": "ipython",
        "version": 3
      },
      "file_extension": ".py",
      "mimetype": "text/x-python",
      "name": "python",
      "nbconvert_exporter": "python",
      "pygments_lexer": "ipython3",
      "version": "3.11.6"
    }
  },
  "nbformat": 4,
  "nbformat_minor": 5
}